{
 "cells": [
  {
   "cell_type": "markdown",
   "metadata": {
    "colab_type": "text",
    "id": "UncprnB0ymAE"
   },
   "source": [
    "Below is code with a link to a happy or sad dataset which contains 80 images, 40 happy and 40 sad. \n",
    "Create a convolutional neural network that trains to 100% accuracy on these images,  which cancels training upon hitting training accuracy of >.999\n",
    "\n",
    "Hint -- it will work best with 3 convolutional layers."
   ]
  },
  {
   "cell_type": "code",
   "execution_count": 18,
   "metadata": {},
   "outputs": [],
   "source": [
    "import tensorflow as tf\n",
    "import os\n",
    "import zipfile\n",
    "from os import path, getcwd, chdir\n",
    "\n",
    "# DO NOT CHANGE THE LINE BELOW. If you are developing in a local\n",
    "# environment, then grab happy-or-sad.zip from the Coursera Jupyter Notebook\n",
    "# and place it inside a local folder and edit the path to that location\n",
    "path = f\"{getcwd()}/../tmp2/happy-or-sad.zip\"\n",
    "\n",
    "zip_ref = zipfile.ZipFile(path, 'r')\n",
    "zip_ref.extractall(\"/tmp/h-or-s\")\n",
    "zip_ref.close()"
   ]
  },
  {
   "cell_type": "code",
   "execution_count": 21,
   "metadata": {},
   "outputs": [],
   "source": [
    "# GRADED FUNCTION: train_happy_sad_model\n",
    "def train_happy_sad_model():\n",
    "    # Please write your code only where you are indicated.\n",
    "    # please do not remove # model fitting inline comments.\n",
    "\n",
    "    DESIRED_ACCURACY = 0.999\n",
    "\n",
    "    class myCallback(tf.keras.callbacks.Callback):\n",
    "        def on_epoch_end(self, epoch, logs={}):\n",
    "            if(logs.get('acc')>=0.999):\n",
    "                print(\"\\nReached 99.9% accuracy so cancelling training!\")\n",
    "                self.model.stop_training = True\n",
    "\n",
    "    callbacks = myCallback()\n",
    "    \n",
    "    # This Code Block should Define and Compile the Model. Please assume the images are 150 X 150 in your implementation.\n",
    "    model = tf.keras.models.Sequential([\n",
    "         tf.keras.layers.Conv2D(16, (3,3), activation='relu', input_shape=(150, 150, 3)),\n",
    "        tf.keras.layers.MaxPooling2D(2, 2),\n",
    "        # The second convolution\n",
    "        tf.keras.layers.Conv2D(32, (3,3), activation='relu'),\n",
    "        tf.keras.layers.MaxPooling2D(2,2),\n",
    "        # The third convolution\n",
    "        tf.keras.layers.Conv2D(64, (3,3), activation='relu'),\n",
    "        tf.keras.layers.MaxPooling2D(2,2),\n",
    "        # The fourth convolution\n",
    "        tf.keras.layers.Conv2D(64, (3,3), activation='relu'),\n",
    "        tf.keras.layers.MaxPooling2D(2,2),\n",
    "        # The fifth convolution\n",
    "        tf.keras.layers.Conv2D(64, (3,3), activation='relu'),\n",
    "        tf.keras.layers.MaxPooling2D(2,2),\n",
    "        # Flatten the results to feed into a DNN\n",
    "        tf.keras.layers.Flatten(),\n",
    "        # 512 neuron hidden layer\n",
    "        tf.keras.layers.Dense(512, activation='relu'),\n",
    "        # Only 1 output neuron. It will contain a value from 0-1 where 0 for 1 class ('horses') and 1 for the other ('humans')\n",
    "        tf.keras.layers.Dense(1, activation='sigmoid')\n",
    "        # Your Code Here\n",
    "    ])\n",
    "\n",
    "    from tensorflow.keras.optimizers import RMSprop\n",
    "\n",
    "    model.compile(optimizer=  'adam', loss='binary_crossentropy', metrics=['accuracy'])\n",
    "        \n",
    "\n",
    "    # This code block should create an instance of an ImageDataGenerator called train_datagen \n",
    "    # And a train_generator by calling train_datagen.flow_from_directory\n",
    "\n",
    "    from tensorflow.keras.preprocessing.image import ImageDataGenerator\n",
    "\n",
    "    train_datagen = ImageDataGenerator(rescale = 1.0/255)\n",
    "\n",
    "    # Please use a target_size of 150 X 150.\n",
    "    train_generator = train_datagen.flow_from_directory('/tmp/h-or-s',\n",
    "        target_size=(150, 150),  # All images will be resized to 150x150\n",
    "        batch_size=80,\n",
    "        # Since we use binary_crossentropy loss, we need binary labels\n",
    "        class_mode='binary')\n",
    "        # Your Code Here)\n",
    "    # Expected output: 'Found 80 images belonging to 2 classes'\n",
    "\n",
    "    # This code block should call model.fit_generator and train for\n",
    "    # a number of epochs.\n",
    "    # model fitting\n",
    "    history = model.fit_generator(train_generator,\n",
    "      steps_per_epoch=1,  \n",
    "      epochs=50,\n",
    "      verbose=1,\n",
    "       callbacks=[callbacks])\n",
    "          # Your Code Here)\n",
    "    # model fitting\n",
    "    return history.history['acc'][-1]"
   ]
  },
  {
   "cell_type": "code",
   "execution_count": 22,
   "metadata": {},
   "outputs": [
    {
     "name": "stdout",
     "output_type": "stream",
     "text": [
      "Found 80 images belonging to 2 classes.\n",
      "Epoch 1/50\n",
      "1/1 [==============================] - 3s 3s/step - loss: 0.6930 - acc: 0.5000\n",
      "Epoch 2/50\n",
      "1/1 [==============================] - 0s 74ms/step - loss: 0.6839 - acc: 0.5000\n",
      "Epoch 3/50\n",
      "1/1 [==============================] - 0s 308ms/step - loss: 0.6691 - acc: 0.5000\n",
      "Epoch 4/50\n",
      "1/1 [==============================] - 0s 378ms/step - loss: 0.6465 - acc: 0.5750\n",
      "Epoch 5/50\n",
      "1/1 [==============================] - 0s 296ms/step - loss: 0.6118 - acc: 0.6875\n",
      "Epoch 6/50\n",
      "1/1 [==============================] - 0s 297ms/step - loss: 0.5621 - acc: 0.7500\n",
      "Epoch 7/50\n",
      "1/1 [==============================] - 0s 307ms/step - loss: 0.4934 - acc: 0.8500\n",
      "Epoch 8/50\n",
      "1/1 [==============================] - 0s 299ms/step - loss: 0.4033 - acc: 0.9250\n",
      "Epoch 9/50\n",
      "1/1 [==============================] - 0s 296ms/step - loss: 0.3064 - acc: 0.9375\n",
      "Epoch 10/50\n",
      "1/1 [==============================] - 0s 299ms/step - loss: 0.2258 - acc: 0.9375\n",
      "Epoch 11/50\n",
      "1/1 [==============================] - 0s 299ms/step - loss: 0.2092 - acc: 0.8750\n",
      "Epoch 12/50\n",
      "1/1 [==============================] - 0s 304ms/step - loss: 0.3844 - acc: 0.8875\n",
      "Epoch 13/50\n",
      "1/1 [==============================] - 0s 297ms/step - loss: 0.1657 - acc: 0.9375\n",
      "Epoch 14/50\n",
      "1/1 [==============================] - 0s 295ms/step - loss: 0.4571 - acc: 0.7500\n",
      "Epoch 15/50\n",
      "1/1 [==============================] - 0s 303ms/step - loss: 0.1616 - acc: 0.9375\n",
      "Epoch 16/50\n",
      "1/1 [==============================] - 0s 291ms/step - loss: 0.2978 - acc: 0.9125\n",
      "Epoch 17/50\n",
      "1/1 [==============================] - 0s 306ms/step - loss: 0.3103 - acc: 0.9000\n",
      "Epoch 18/50\n",
      "1/1 [==============================] - 0s 299ms/step - loss: 0.1950 - acc: 0.9250\n",
      "Epoch 19/50\n",
      "1/1 [==============================] - 0s 302ms/step - loss: 0.1607 - acc: 0.9125\n",
      "Epoch 20/50\n",
      "1/1 [==============================] - 0s 305ms/step - loss: 0.2529 - acc: 0.8875\n",
      "Epoch 21/50\n",
      "1/1 [==============================] - 0s 298ms/step - loss: 0.1838 - acc: 0.9000\n",
      "Epoch 22/50\n",
      "1/1 [==============================] - 0s 298ms/step - loss: 0.1455 - acc: 0.9375\n",
      "Epoch 23/50\n",
      "1/1 [==============================] - 0s 300ms/step - loss: 0.1813 - acc: 0.9250\n",
      "Epoch 24/50\n",
      "1/1 [==============================] - 0s 298ms/step - loss: 0.1973 - acc: 0.9125\n",
      "Epoch 25/50\n",
      "1/1 [==============================] - 0s 300ms/step - loss: 0.1730 - acc: 0.9250\n",
      "Epoch 26/50\n",
      "1/1 [==============================] - 0s 304ms/step - loss: 0.1444 - acc: 0.9375\n",
      "Epoch 27/50\n",
      "1/1 [==============================] - 0s 303ms/step - loss: 0.1519 - acc: 0.9625\n",
      "Epoch 28/50\n",
      "\n",
      "Reached 99.9% accuracy so cancelling training!\n",
      "1/1 [==============================] - 0s 294ms/step - loss: 0.1724 - acc: 1.0000\n"
     ]
    },
    {
     "data": {
      "text/plain": [
       "1.0"
      ]
     },
     "execution_count": 22,
     "metadata": {},
     "output_type": "execute_result"
    }
   ],
   "source": [
    "# The Expected output: \"Reached 99.9% accuracy so cancelling training!\"\"\n",
    "train_happy_sad_model()"
   ]
  },
  {
   "cell_type": "code",
   "execution_count": null,
   "metadata": {},
   "outputs": [],
   "source": []
  }
 ],
 "metadata": {
  "coursera": {
   "course_slug": "introduction-tensorflow",
   "graded_item_id": "1kAlw",
   "launcher_item_id": "PNLYD"
  },
  "kernelspec": {
   "display_name": "Python 3",
   "language": "python",
   "name": "python3"
  },
  "language_info": {
   "codemirror_mode": {
    "name": "ipython",
    "version": 3
   },
   "file_extension": ".py",
   "mimetype": "text/x-python",
   "name": "python",
   "nbconvert_exporter": "python",
   "pygments_lexer": "ipython3",
   "version": "3.6.8"
  }
 },
 "nbformat": 4,
 "nbformat_minor": 1
}
